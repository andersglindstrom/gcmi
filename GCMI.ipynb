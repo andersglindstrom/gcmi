{
 "cells": [
  {
   "cell_type": "markdown",
   "metadata": {
    "slideshow": {
     "slide_type": "skip"
    }
   },
   "source": [
    "Imports"
   ]
  },
  {
   "cell_type": "code",
   "execution_count": null,
   "metadata": {
    "slideshow": {
     "slide_type": "skip"
    }
   },
   "outputs": [],
   "source": [
    "import gcmi\n",
    "import numpy as np\n",
    "import statsmod"
   ]
  },
  {
   "cell_type": "markdown",
   "metadata": {
    "slideshow": {
     "slide_type": "skip"
    }
   },
   "source": [
    "Parameters"
   ]
  },
  {
   "cell_type": "code",
   "execution_count": null,
   "metadata": {
    "slideshow": {
     "slide_type": "skip"
    }
   },
   "outputs": [],
   "source": [
    "mu = np.array([0, 0])\n",
    "C = 0.6\n",
    "sigma = np.array([[1, C], [C, 1]])\n",
    "Npt = 50000"
   ]
  },
  {
   "cell_type": "markdown",
   "metadata": {},
   "source": [
    "Generate the two stimulus signals. They have correlation C, defined above."
   ]
  },
  {
   "cell_type": "code",
   "execution_count": null,
   "metadata": {},
   "outputs": [],
   "source": [
    "stim = np.random.multivariate_normal(mu, sigma, Npt)"
   ]
  },
  {
   "cell_type": "markdown",
   "metadata": {},
   "source": [
    "Generate Response A. It is the first stimulus plus noise"
   ]
  },
  {
   "cell_type": "code",
   "execution_count": null,
   "metadata": {},
   "outputs": [],
   "source": [
    "respA = np.random.randn(Npt) + stim[:,0]"
   ]
  },
  {
   "cell_type": "markdown",
   "metadata": {},
   "source": [
    "Generate Response B. It is the mean of the two stimuluses plus noise."
   ]
  },
  {
   "cell_type": "code",
   "execution_count": null,
   "metadata": {},
   "outputs": [],
   "source": [
    "respB = np.random.randn(Npt) + stim.mean(axis=1)"
   ]
  },
  {
   "cell_type": "markdown",
   "metadata": {},
   "source": [
    "Plot the two stimuluses against each other to make sure they look right."
   ]
  },
  {
   "cell_type": "code",
   "execution_count": null,
   "metadata": {},
   "outputs": [],
   "source": [
    "%matplotlib inline\n",
    "\n",
    "import matplotlib.pyplot as plt\n",
    "\n",
    "plt.scatter(stim[:,0], stim[:,1])\n",
    "plt.gca().set_xlabel(\"Stimulus 1\")\n",
    "plt.gca().set_ylabel(\"Stimulus 2\")"
   ]
  },
  {
   "cell_type": "markdown",
   "metadata": {},
   "source": [
    "# Calculate MI and CMI\n",
    "Now plot the stimulus versus response.\n",
    "In addition, we calculuate the mutual information between the stimulus and the response.\n",
    "Finally, we calculate the conditional mutual information between the stimulus and one response conditioned on the the other stimulus."
   ]
  },
  {
   "cell_type": "code",
   "execution_count": null,
   "metadata": {},
   "outputs": [],
   "source": [
    "Nplt = 500\n",
    "idx = np.random.choice(Npt, Nplt, replace=False)"
   ]
  },
  {
   "cell_type": "markdown",
   "metadata": {},
   "source": [
    "### MI(ResponseA; Stimulus1) and CMI(ResponseA; Stimulus1 | Stimulus2)\n",
    "Here, we plot Response A against Stimulus 1 and calcuate the MI(Response A; Stimulus 1) and CMI(Response A; Stimulus 1 | Stimulus 2)"
   ]
  },
  {
   "cell_type": "code",
   "execution_count": null,
   "metadata": {
    "slideshow": {
     "slide_type": "slide"
    }
   },
   "outputs": [],
   "source": [
    "plt.scatter(respA[idx], stim[idx,0], c='b')\n",
    "mi = gcmi.mi_gg(stim[:,0], respA, biascorrect=True, demeaned=True)\n",
    "cmi = gcmi.cmi_ggg(stim[:,0], respA, stim[:,1], biascorrect=True, demeaned=True)\n",
    "plt.title(f\"MI: {mi:0.2f} CMI: {cmi:0.2f}\")\n",
    "plt.gca().set_xlabel(\"Response A\")\n",
    "plt.gca().set_ylabel(\"Stimulus 1\")"
   ]
  },
  {
   "cell_type": "markdown",
   "metadata": {},
   "source": [
    "### MI(ResponseA; Stimulus2) and CMI(ResponseA; Stimulus2 | Stimulus1)\n",
    "Here, we plot Response A against Stimulus 2 and calcuate the MI(Response A; Stimulus 2) and CMI(Response A; Stimulus 2 | Stimulus 1)"
   ]
  },
  {
   "cell_type": "code",
   "execution_count": null,
   "metadata": {},
   "outputs": [],
   "source": [
    "plt.scatter(respA[idx], stim[idx,1], c='b')\n",
    "mi = gcmi.mi_gg(stim[:,1], respA, biascorrect=True, demeaned=True)\n",
    "cmi = gcmi.cmi_ggg(stim[:,1], respA, stim[:,0], biascorrect=True, demeaned=True)\n",
    "plt.title(f\"MI: {mi:0.2f} CMI: {cmi:0.2f}\")\n",
    "plt.gca().set_xlabel(\"Response A\")\n",
    "plt.gca().set_ylabel(\"Stimulus 2\")"
   ]
  },
  {
   "cell_type": "markdown",
   "metadata": {},
   "source": [
    "Note that the MI is non-zero but the CMI is 0. This is because Stimulus 2 is correlated with Stimulus 1 but Response A has no actual dependence on Stimulus 2. The MI includes the correlation between Stimulus 1 and Stimulus 2. The CMI excludes it."
   ]
  },
  {
   "cell_type": "markdown",
   "metadata": {},
   "source": [
    "### MI(ResponseB; Stimulus1) and CMI(ResponseB; Stimulus1 | Stimulus2)\n",
    "Here, we plot Response B against Stimulus 1 and calculate MI(Response B; Stimulus 1) and CMI(Response B; Stimulus 1|Stimulus 2)"
   ]
  },
  {
   "cell_type": "code",
   "execution_count": null,
   "metadata": {},
   "outputs": [],
   "source": [
    "plt.scatter(respB[idx], stim[idx,0], c='b')\n",
    "mi = gcmi.mi_gg(stim[:,0], respB, biascorrect=True, demeaned=True)\n",
    "cmi = gcmi.cmi_ggg(stim[:,0], respB, stim[:,1], biascorrect=True, demeaned=True)\n",
    "plt.title(f\"MI: {mi:0.2f} CMI: {cmi:0.2f}\")\n",
    "plt.gca().set_xlabel(\"Response B\")\n",
    "plt.gca().set_ylabel(\"Stimulus 1\")"
   ]
  },
  {
   "cell_type": "markdown",
   "metadata": {},
   "source": [
    "### MI(ResponseB; Stimulus2) and CMI(ResponseB; Stimulus2 | Stimulus1)\n",
    "Here, we plot Response B against Stimulus 2 and calculate MI(Response B; Stimulus 2) and CMI(Response B; Stimulus 2|Stimulus 1)"
   ]
  },
  {
   "cell_type": "code",
   "execution_count": null,
   "metadata": {},
   "outputs": [],
   "source": [
    "plt.scatter(respB[idx], stim[idx,1], c='b')\n",
    "mi = gcmi.mi_gg(stim[:,1], respB, biascorrect=True, demeaned=True)\n",
    "cmi = gcmi.cmi_ggg(stim[:,1], respB, stim[:,0], biascorrect=True, demeaned=True)\n",
    "plt.title(f\"MI: {mi:0.2f} CMI: {cmi:0.2f}\")\n",
    "plt.gca().set_xlabel(\"Response B\")\n",
    "plt.gca().set_ylabel(\"Stimulus 2\")"
   ]
  }
 ],
 "metadata": {
  "kernelspec": {
   "display_name": "Python 3",
   "language": "python",
   "name": "python3"
  },
  "language_info": {
   "codemirror_mode": {
    "name": "ipython",
    "version": 3
   },
   "file_extension": ".py",
   "mimetype": "text/x-python",
   "name": "python",
   "nbconvert_exporter": "python",
   "pygments_lexer": "ipython3",
   "version": "3.7.0"
  }
 },
 "nbformat": 4,
 "nbformat_minor": 2
}
